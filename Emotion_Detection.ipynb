{
 "cells": [
  {
   "cell_type": "code",
   "execution_count": 1,
   "metadata": {
    "colab": {
     "base_uri": "https://localhost:8080/",
     "height": 166
    },
    "executionInfo": {
     "elapsed": 12492,
     "status": "ok",
     "timestamp": 1749499253295,
     "user": {
      "displayName": "Hasan Kiron",
      "userId": "10255888456638507101"
     },
     "user_tz": -420
    },
    "id": "ocbaJCwvxV1U",
    "outputId": "2535d2b2-776c-4e49-c7dd-650c758603b3"
   },
   "outputs": [],
   "source": [
    "import os\n",
    "import re\n",
    "import nltk\n",
    "import ssl\n",
    "import json\n",
    "import joblib\n",
    "import numpy as np\n",
    "import pandas as pd\n",
    "import string\n",
    "import matplotlib.pyplot as plt\n",
    "import seaborn as sns\n",
    "from sklearn.preprocessing import LabelEncoder\n",
    "from sklearn.model_selection import train_test_split\n",
    "from sklearn.metrics import accuracy_score, classification_report\n",
    "from sklearn.utils import resample\n",
    "from sklearn.metrics import accuracy_score, confusion_matrix, classification_report\n",
    "from sklearn.base import BaseEstimator, TransformerMixin\n",
    "import tensorflow as tf\n",
    "from Sastrawi.Stemmer.StemmerFactory import StemmerFactory\n",
    "from Sastrawi.StopWordRemover.StopWordRemoverFactory import StopWordRemoverFactory\n",
    "from tensorflow.keras.preprocessing.text import Tokenizer\n",
    "from nltk.tokenize import word_tokenize\n",
    "from nltk.corpus import stopwords\n",
    "from tensorflow.keras.utils import pad_sequences\n",
    "from tensorflow.keras.models import Sequential\n",
    "from tensorflow.keras.layers import Embedding, SpatialDropout1D, SimpleRNN, LSTM, Dense, Dropout, BatchNormalization\n",
    "from tensorflow.keras.callbacks import EarlyStopping, ReduceLROnPlateau\n",
    "from tensorflow.keras.optimizers import Adam\n",
    "from tensorflow.keras.regularizers import l2\n",
    "import zipfile\n",
    "\n",
    "from warnings import filterwarnings\n",
    "filterwarnings('ignore')\n",
    "\n",
    "pd.options.mode.chained_assignment = None"
   ]
  },
  {
   "cell_type": "code",
   "execution_count": 2,
   "metadata": {},
   "outputs": [],
   "source": [
    "os.environ['KAGGLE_CONFIG_DIR'] = os.path.join(os.getcwd(), '..', '.kaggle')\n",
    "os.environ['WANDB_DISABLED'] = 'true'"
   ]
  },
  {
   "cell_type": "code",
   "execution_count": 3,
   "metadata": {
    "colab": {
     "base_uri": "https://localhost:8080/"
    },
    "executionInfo": {
     "elapsed": 332,
     "status": "ok",
     "timestamp": 1749499253630,
     "user": {
      "displayName": "Hasan Kiron",
      "userId": "10255888456638507101"
     },
     "user_tz": -420
    },
    "id": "M_Z6Dq5j8MmO",
    "outputId": "152744eb-88fa-4a74-c335-21d1a6541215"
   },
   "outputs": [
    {
     "name": "stderr",
     "output_type": "stream",
     "text": [
      "[nltk_data] Downloading package punkt to\n",
      "[nltk_data]     C:\\Users\\Ilyas\\AppData\\Roaming\\nltk_data...\n",
      "[nltk_data]   Package punkt is already up-to-date!\n",
      "[nltk_data] Downloading package stopwords to\n",
      "[nltk_data]     C:\\Users\\Ilyas\\AppData\\Roaming\\nltk_data...\n",
      "[nltk_data]   Package stopwords is already up-to-date!\n"
     ]
    },
    {
     "data": {
      "text/plain": [
       "True"
      ]
     },
     "execution_count": 3,
     "metadata": {},
     "output_type": "execute_result"
    }
   ],
   "source": [
    "try:\n",
    "    _create_unverified_https_context = ssl._create_unverified_context\n",
    "except AttributeError:\n",
    "    pass\n",
    "else:\n",
    "    ssl._create_default_https_context = _create_unverified_https_context\n",
    "\n",
    "nltk.download('punkt')\n",
    "nltk.download('stopwords')"
   ]
  },
  {
   "cell_type": "code",
   "execution_count": 4,
   "metadata": {
    "colab": {
     "base_uri": "https://localhost:8080/"
    },
    "executionInfo": {
     "elapsed": 1848,
     "status": "ok",
     "timestamp": 1749499307128,
     "user": {
      "displayName": "Hasan Kiron",
      "userId": "10255888456638507101"
     },
     "user_tz": -420
    },
    "id": "dJA2Oi_6V47P",
    "outputId": "3006d558-516d-4806-c851-05fca2298e1c"
   },
   "outputs": [
    {
     "name": "stderr",
     "output_type": "stream",
     "text": [
      "The syntax of the command is incorrect.\n",
      "'cp' is not recognized as an internal or external command,\n",
      "operable program or batch file.\n",
      "'chmod' is not recognized as an internal or external command,\n",
      "operable program or batch file.\n"
     ]
    }
   ],
   "source": [
    "!mkdir ~/.kaggle\n",
    "!cp kaggle.json ~/.kaggle\n",
    "!chmod 600 ~/.kaggle/kaggle.json\n",
    "!kaggle datasets download -d gerhardien/text-emotion-indonesia"
   ]
  },
  {
   "cell_type": "code",
   "execution_count": 5,
   "metadata": {
    "executionInfo": {
     "elapsed": 3,
     "status": "ok",
     "timestamp": 1749499307134,
     "user": {
      "displayName": "Hasan Kiron",
      "userId": "10255888456638507101"
     },
     "user_tz": -420
    },
    "id": "DQgLdX033X2Z"
   },
   "outputs": [],
   "source": [
    "with zipfile.ZipFile('text-emotion-indonesia.zip', 'r') as zip_ref:\n",
    "    zip_ref.extractall('dataset')"
   ]
  },
  {
   "cell_type": "code",
   "execution_count": 6,
   "metadata": {
    "colab": {
     "base_uri": "https://localhost:8080/",
     "height": 423
    },
    "executionInfo": {
     "elapsed": 129,
     "status": "ok",
     "timestamp": 1749499307262,
     "user": {
      "displayName": "Hasan Kiron",
      "userId": "10255888456638507101"
     },
     "user_tz": -420
    },
    "id": "jsgEfj9v4GJS",
    "outputId": "3588be60-ca98-4d21-fca2-9efa9c8a92e3"
   },
   "outputs": [
    {
     "data": {
      "text/html": [
       "<div>\n",
       "<style scoped>\n",
       "    .dataframe tbody tr th:only-of-type {\n",
       "        vertical-align: middle;\n",
       "    }\n",
       "\n",
       "    .dataframe tbody tr th {\n",
       "        vertical-align: top;\n",
       "    }\n",
       "\n",
       "    .dataframe thead th {\n",
       "        text-align: right;\n",
       "    }\n",
       "</style>\n",
       "<table border=\"1\" class=\"dataframe\">\n",
       "  <thead>\n",
       "    <tr style=\"text-align: right;\">\n",
       "      <th></th>\n",
       "      <th>label</th>\n",
       "      <th>sentence</th>\n",
       "    </tr>\n",
       "  </thead>\n",
       "  <tbody>\n",
       "    <tr>\n",
       "      <th>0</th>\n",
       "      <td>sadness</td>\n",
       "      <td>aku telah belajar bahwa bahkan ketika aku mera...</td>\n",
       "    </tr>\n",
       "    <tr>\n",
       "      <th>1</th>\n",
       "      <td>sadness</td>\n",
       "      <td>aku tahu bagaimana rasanya menderita sakit dan...</td>\n",
       "    </tr>\n",
       "    <tr>\n",
       "      <th>2</th>\n",
       "      <td>neutral</td>\n",
       "      <td>Ucapkan selamat tinggal pada vas defferens dan...</td>\n",
       "    </tr>\n",
       "    <tr>\n",
       "      <th>3</th>\n",
       "      <td>neutral</td>\n",
       "      <td>Aku tak sabar menunggu Narratif ini berhenti.</td>\n",
       "    </tr>\n",
       "    <tr>\n",
       "      <th>4</th>\n",
       "      <td>neutral</td>\n",
       "      <td>Aku meninggalkannya karena aku mencoba untuk m...</td>\n",
       "    </tr>\n",
       "    <tr>\n",
       "      <th>...</th>\n",
       "      <td>...</td>\n",
       "      <td>...</td>\n",
       "    </tr>\n",
       "    <tr>\n",
       "      <th>14104</th>\n",
       "      <td>anger</td>\n",
       "      <td>saya merasa hal-hal kecil tapi tidak sejauh ba...</td>\n",
       "    </tr>\n",
       "    <tr>\n",
       "      <th>14105</th>\n",
       "      <td>joy</td>\n",
       "      <td>saya merasa bangga untuk mengumumkan bahwa dr</td>\n",
       "    </tr>\n",
       "    <tr>\n",
       "      <th>14106</th>\n",
       "      <td>sadness</td>\n",
       "      <td>saya am dalam gaya korban benar merasa malu un...</td>\n",
       "    </tr>\n",
       "    <tr>\n",
       "      <th>14107</th>\n",
       "      <td>sadness</td>\n",
       "      <td>Saya telah diberkati dengan pengetahuan tentan...</td>\n",
       "    </tr>\n",
       "    <tr>\n",
       "      <th>14108</th>\n",
       "      <td>sadness</td>\n",
       "      <td>saya think dia lebih menyenangkan daripada dia...</td>\n",
       "    </tr>\n",
       "  </tbody>\n",
       "</table>\n",
       "<p>14109 rows × 2 columns</p>\n",
       "</div>"
      ],
      "text/plain": [
       "         label                                           sentence\n",
       "0      sadness  aku telah belajar bahwa bahkan ketika aku mera...\n",
       "1      sadness  aku tahu bagaimana rasanya menderita sakit dan...\n",
       "2      neutral  Ucapkan selamat tinggal pada vas defferens dan...\n",
       "3      neutral      Aku tak sabar menunggu Narratif ini berhenti.\n",
       "4      neutral  Aku meninggalkannya karena aku mencoba untuk m...\n",
       "...        ...                                                ...\n",
       "14104    anger  saya merasa hal-hal kecil tapi tidak sejauh ba...\n",
       "14105      joy      saya merasa bangga untuk mengumumkan bahwa dr\n",
       "14106  sadness  saya am dalam gaya korban benar merasa malu un...\n",
       "14107  sadness  Saya telah diberkati dengan pengetahuan tentan...\n",
       "14108  sadness  saya think dia lebih menyenangkan daripada dia...\n",
       "\n",
       "[14109 rows x 2 columns]"
      ]
     },
     "execution_count": 6,
     "metadata": {},
     "output_type": "execute_result"
    }
   ],
   "source": [
    "df1 = pd.read_csv('dataset/train_filtered.csv')\n",
    "df2 = pd.read_csv('dataset/test_filtered.csv')\n",
    "df3 = pd.read_csv('dataset/val_filtered.csv')\n",
    "\n",
    "df = pd.concat([df1, df2, df3], ignore_index=True)\n",
    "\n",
    "df"
   ]
  },
  {
   "cell_type": "code",
   "execution_count": 7,
   "metadata": {
    "colab": {
     "base_uri": "https://localhost:8080/",
     "height": 147
    },
    "executionInfo": {
     "elapsed": 18,
     "status": "ok",
     "timestamp": 1749499307278,
     "user": {
      "displayName": "Hasan Kiron",
      "userId": "10255888456638507101"
     },
     "user_tz": -420
    },
    "id": "WILy9DDo4Jzj",
    "outputId": "e4c6ebd5-cbc0-49ef-bf35-b6cac3157c20"
   },
   "outputs": [
    {
     "data": {
      "text/plain": [
       "label       0\n",
       "sentence    0\n",
       "dtype: int64"
      ]
     },
     "execution_count": 7,
     "metadata": {},
     "output_type": "execute_result"
    }
   ],
   "source": [
    "df.isnull().sum()"
   ]
  },
  {
   "cell_type": "code",
   "execution_count": 8,
   "metadata": {
    "colab": {
     "base_uri": "https://localhost:8080/"
    },
    "executionInfo": {
     "elapsed": 18,
     "status": "ok",
     "timestamp": 1749499307297,
     "user": {
      "displayName": "Hasan Kiron",
      "userId": "10255888456638507101"
     },
     "user_tz": -420
    },
    "id": "ELs3Uz1p4Q5r",
    "outputId": "059204ce-35e8-4be4-9975-c4c33f9978bb"
   },
   "outputs": [
    {
     "name": "stdout",
     "output_type": "stream",
     "text": [
      "<class 'pandas.core.frame.DataFrame'>\n",
      "RangeIndex: 14109 entries, 0 to 14108\n",
      "Data columns (total 2 columns):\n",
      " #   Column    Non-Null Count  Dtype \n",
      "---  ------    --------------  ----- \n",
      " 0   label     14109 non-null  object\n",
      " 1   sentence  14109 non-null  object\n",
      "dtypes: object(2)\n",
      "memory usage: 220.6+ KB\n"
     ]
    }
   ],
   "source": [
    "df.info()"
   ]
  },
  {
   "cell_type": "code",
   "execution_count": 9,
   "metadata": {
    "colab": {
     "base_uri": "https://localhost:8080/"
    },
    "executionInfo": {
     "elapsed": 16,
     "status": "ok",
     "timestamp": 1749499307315,
     "user": {
      "displayName": "Hasan Kiron",
      "userId": "10255888456638507101"
     },
     "user_tz": -420
    },
    "id": "Ls_9m_Lj5Bu3",
    "outputId": "71c8bd45-3369-4272-fb2c-f447f35d27a3"
   },
   "outputs": [
    {
     "name": "stdout",
     "output_type": "stream",
     "text": [
      "label\n",
      "joy        4797\n",
      "sadness    4250\n",
      "neutral    2904\n",
      "anger      2158\n",
      "Name: count, dtype: int64\n"
     ]
    }
   ],
   "source": [
    "label_counts = df['label'].value_counts()\n",
    "print(label_counts)"
   ]
  },
  {
   "cell_type": "code",
   "execution_count": 10,
   "metadata": {
    "colab": {
     "base_uri": "https://localhost:8080/"
    },
    "executionInfo": {
     "elapsed": 47,
     "status": "ok",
     "timestamp": 1749499307363,
     "user": {
      "displayName": "Hasan Kiron",
      "userId": "10255888456638507101"
     },
     "user_tz": -420
    },
    "id": "Kh3be61uwaSh",
    "outputId": "e9288c34-faef-4d54-fb99-d980349d733f"
   },
   "outputs": [
    {
     "name": "stdout",
     "output_type": "stream",
     "text": [
      "3527\n"
     ]
    }
   ],
   "source": [
    "avg_count = int(label_counts.mean())\n",
    "print(avg_count)"
   ]
  },
  {
   "cell_type": "code",
   "execution_count": 11,
   "metadata": {
    "executionInfo": {
     "elapsed": 35,
     "status": "ok",
     "timestamp": 1749499307399,
     "user": {
      "displayName": "Hasan Kiron",
      "userId": "10255888456638507101"
     },
     "user_tz": -420
    },
    "id": "iL6OP8CKxKF4"
   },
   "outputs": [],
   "source": [
    "df_sampled = df.groupby('label').apply(lambda x: x.sample(avg_count, replace=len(x) < avg_count)).reset_index(drop=True)"
   ]
  },
  {
   "cell_type": "code",
   "execution_count": 12,
   "metadata": {
    "colab": {
     "base_uri": "https://localhost:8080/"
    },
    "executionInfo": {
     "elapsed": 9,
     "status": "ok",
     "timestamp": 1749499307412,
     "user": {
      "displayName": "Hasan Kiron",
      "userId": "10255888456638507101"
     },
     "user_tz": -420
    },
    "id": "NXa2mra6xX8a",
    "outputId": "9013b2b0-73f4-434e-e34f-6b24689e2053"
   },
   "outputs": [
    {
     "name": "stdout",
     "output_type": "stream",
     "text": [
      "label\n",
      "anger      3527\n",
      "joy        3527\n",
      "neutral    3527\n",
      "sadness    3527\n",
      "Name: count, dtype: int64\n"
     ]
    }
   ],
   "source": [
    "print(df_sampled['label'].value_counts())"
   ]
  },
  {
   "cell_type": "code",
   "execution_count": 13,
   "metadata": {
    "executionInfo": {
     "elapsed": 21,
     "status": "ok",
     "timestamp": 1749499307435,
     "user": {
      "displayName": "Hasan Kiron",
      "userId": "10255888456638507101"
     },
     "user_tz": -420
    },
    "id": "ewyONMxl52l9"
   },
   "outputs": [],
   "source": [
    "class TextPreprocessor(BaseEstimator, TransformerMixin):\n",
    "    def __init__(self):\n",
    "        # Slang dictionary\n",
    "        self.slangwords = {\n",
    "            \"@\": \"di\", \"abis\": \"habis\", \"masi\": \"masih\", \"gua\": \"saya\", \"gw\": \"saya\", \"klo\": \"kalau\", \"afk\": \"tidak aktif\",\n",
    "            \"thx\": \"terima kasih\", \"ty\": \"terima kasih\", \"tq\": \"terima kasih\", \"bgt\": \"banget\", \"maks\": \"maksimal\",\n",
    "            \"gg\": \"hebat\", \"noob\": \"pemula\", \"poke\": \"pemula\", \"op\": \"terlalu kuat\", \"ez\": \"mudah\", \"dll\": \"dan lain lain\"\n",
    "        }\n",
    "\n",
    "        # Stemmer dan stopwords\n",
    "        self.stemmer = StemmerFactory().create_stemmer()\n",
    "\n",
    "        stopword_factory = StopWordRemoverFactory()\n",
    "        self.stopwords = set(stopword_factory.get_stop_words())\n",
    "        self.stopwords.update(stopwords.words('english'))\n",
    "        self.stopwords.update([\n",
    "            'iya', 'yaa', 'gak', 'nya', 'na', 'sih', 'ku', \"di\", \"ga\",\n",
    "            \"ya\", \"gaa\", \"loh\", \"kah\", \"woi\", \"woii\", \"woy\", \"nge\"\n",
    "        ])\n",
    "\n",
    "    def fit(self, X, y=None):\n",
    "        return self\n",
    "\n",
    "    def transform(self, X):\n",
    "        return [self._preprocess(text) for text in X]\n",
    "\n",
    "    def _preprocess(self, text):\n",
    "        text = self._cleaningText(text)\n",
    "        text = text.lower()\n",
    "        text = self._fix_slangwords(text)\n",
    "        tokens = word_tokenize(text)\n",
    "        tokens = [token for token in tokens if token not in self.stopwords]\n",
    "        tokens = [self.stemmer.stem(token) for token in tokens]\n",
    "        return tokens\n",
    "\n",
    "    def _cleaningText(self, text):\n",
    "        emoticon_pattern = re.compile(\n",
    "            \"[\"u\"\\U0001F600-\\U0001F64F\"\n",
    "            u\"\\U0001F300-\\U0001F5FF\"\n",
    "            u\"\\U0001F680-\\U0001F6FF\"\n",
    "            u\"\\U0001F1E0-\\U0001F1FF\"\n",
    "            u\"\\U00002702-\\U000027B0\"\n",
    "            u\"\\U000024C2-\\U0001F251\"\n",
    "            \"]+\", flags=re.UNICODE)\n",
    "\n",
    "        text = emoticon_pattern.sub(r'', text)\n",
    "        text = re.sub(r'@[A-Za-z0-9]+', '', text)\n",
    "        text = re.sub(r'#[A-Za-z0-9]+', '', text)\n",
    "        text = re.sub(r'RT[\\s]', '', text)\n",
    "        text = re.sub(r\"http\\S+\", '', text)\n",
    "        text = re.sub(r'[0-9]+', '', text)\n",
    "        text = re.sub(r'[^\\w\\s]', '', text)\n",
    "        text = re.sub(r'(.)\\1{2,}', r'\\1', text)\n",
    "        text = text.replace('\\n', ' ')\n",
    "        text = text.translate(str.maketrans('', '', string.punctuation))\n",
    "        text = text.strip()\n",
    "        return text\n",
    "\n",
    "    def _fix_slangwords(self, text):\n",
    "        words = text.split()\n",
    "        fixed_words = [self.slangwords.get(word, word) for word in words]\n",
    "        return ' '.join(fixed_words)"
   ]
  },
  {
   "cell_type": "code",
   "execution_count": 14,
   "metadata": {},
   "outputs": [
    {
     "data": {
      "text/plain": [
       "['text_preprocessor.joblib']"
      ]
     },
     "execution_count": 14,
     "metadata": {},
     "output_type": "execute_result"
    }
   ],
   "source": [
    "# Inisialisasi preprocessor\n",
    "preprocessor = TextPreprocessor()\n",
    "\n",
    "# Simpan ke file\n",
    "joblib.dump(preprocessor, 'text_preprocessor.joblib')"
   ]
  },
  {
   "cell_type": "code",
   "execution_count": 15,
   "metadata": {},
   "outputs": [],
   "source": [
    "preprocessor = joblib.load('text_preprocessor.joblib')"
   ]
  },
  {
   "cell_type": "code",
   "execution_count": 16,
   "metadata": {
    "executionInfo": {
     "elapsed": 6589,
     "status": "ok",
     "timestamp": 1749499314019,
     "user": {
      "displayName": "Hasan Kiron",
      "userId": "10255888456638507101"
     },
     "user_tz": -420
    },
    "id": "VjMm7oXC66nK"
   },
   "outputs": [],
   "source": [
    "df_sampled['cleaned_sentence'] = preprocessor.transform(df_sampled['sentence'])"
   ]
  },
  {
   "cell_type": "code",
   "execution_count": 17,
   "metadata": {
    "colab": {
     "base_uri": "https://localhost:8080/",
     "height": 206
    },
    "executionInfo": {
     "elapsed": 24,
     "status": "ok",
     "timestamp": 1749499314039,
     "user": {
      "displayName": "Hasan Kiron",
      "userId": "10255888456638507101"
     },
     "user_tz": -420
    },
    "id": "gVcfdKlB_lO_",
    "outputId": "1bc73633-e69a-4525-a850-46e117cfb7d4"
   },
   "outputs": [
    {
     "data": {
      "text/html": [
       "<div>\n",
       "<style scoped>\n",
       "    .dataframe tbody tr th:only-of-type {\n",
       "        vertical-align: middle;\n",
       "    }\n",
       "\n",
       "    .dataframe tbody tr th {\n",
       "        vertical-align: top;\n",
       "    }\n",
       "\n",
       "    .dataframe thead th {\n",
       "        text-align: right;\n",
       "    }\n",
       "</style>\n",
       "<table border=\"1\" class=\"dataframe\">\n",
       "  <thead>\n",
       "    <tr style=\"text-align: right;\">\n",
       "      <th></th>\n",
       "      <th>label</th>\n",
       "      <th>sentence</th>\n",
       "      <th>cleaned_sentence</th>\n",
       "    </tr>\n",
       "  </thead>\n",
       "  <tbody>\n",
       "    <tr>\n",
       "      <th>0</th>\n",
       "      <td>anger</td>\n",
       "      <td>saya mengatakan apa yang saya merasa perlu dik...</td>\n",
       "      <td>[kata, apa, rasa, perlu, kata, rasa, bitchy]</td>\n",
       "    </tr>\n",
       "    <tr>\n",
       "      <th>1</th>\n",
       "      <td>anger</td>\n",
       "      <td>saya jauh di belakang dengan pekerjaan saya pa...</td>\n",
       "      <td>[jauh, belakang, kerja, novel, fantasi, rasa, ...</td>\n",
       "    </tr>\n",
       "    <tr>\n",
       "      <th>2</th>\n",
       "      <td>anger</td>\n",
       "      <td>saya merasa sedikit tidak puas dengan jaringan...</td>\n",
       "      <td>[rasa, sedikit, puas, jaring]</td>\n",
       "    </tr>\n",
       "    <tr>\n",
       "      <th>3</th>\n",
       "      <td>anger</td>\n",
       "      <td>saya tidak merasa seperti saya berada di tepi ...</td>\n",
       "      <td>[rasa, ada, tepi, titik, mana, ganggu, siapa, ...</td>\n",
       "    </tr>\n",
       "    <tr>\n",
       "      <th>4</th>\n",
       "      <td>anger</td>\n",
       "      <td>saya hanya ingin dia melihat bagaimana rasanya...</td>\n",
       "      <td>[lihat, bagaimana, rasa, laku, rasa, jengkel]</td>\n",
       "    </tr>\n",
       "  </tbody>\n",
       "</table>\n",
       "</div>"
      ],
      "text/plain": [
       "   label                                           sentence  \\\n",
       "0  anger  saya mengatakan apa yang saya merasa perlu dik...   \n",
       "1  anger  saya jauh di belakang dengan pekerjaan saya pa...   \n",
       "2  anger  saya merasa sedikit tidak puas dengan jaringan...   \n",
       "3  anger  saya tidak merasa seperti saya berada di tepi ...   \n",
       "4  anger  saya hanya ingin dia melihat bagaimana rasanya...   \n",
       "\n",
       "                                    cleaned_sentence  \n",
       "0       [kata, apa, rasa, perlu, kata, rasa, bitchy]  \n",
       "1  [jauh, belakang, kerja, novel, fantasi, rasa, ...  \n",
       "2                      [rasa, sedikit, puas, jaring]  \n",
       "3  [rasa, ada, tepi, titik, mana, ganggu, siapa, ...  \n",
       "4      [lihat, bagaimana, rasa, laku, rasa, jengkel]  "
      ]
     },
     "execution_count": 17,
     "metadata": {},
     "output_type": "execute_result"
    }
   ],
   "source": [
    "df_sampled.head(5)"
   ]
  },
  {
   "cell_type": "code",
   "execution_count": 18,
   "metadata": {
    "executionInfo": {
     "elapsed": 22,
     "status": "ok",
     "timestamp": 1749499314062,
     "user": {
      "displayName": "Hasan Kiron",
      "userId": "10255888456638507101"
     },
     "user_tz": -420
    },
    "id": "vx8z0odK_s36"
   },
   "outputs": [
    {
     "name": "stdout",
     "output_type": "stream",
     "text": [
      "Label to ID mapping: {'anger': np.int64(0), 'joy': np.int64(1), 'neutral': np.int64(2), 'sadness': np.int64(3)}\n",
      "ID to Label mapping: {np.int64(0): 'anger', np.int64(1): 'joy', np.int64(2): 'neutral', np.int64(3): 'sadness'}\n"
     ]
    }
   ],
   "source": [
    "df_sampled['text'] = df_sampled['cleaned_sentence'].apply(lambda x: ' '.join(x))  # Ubah list token menjadi string\n",
    "\n",
    "le = LabelEncoder()\n",
    "df_sampled['label_encoded'] = le.fit_transform(df_sampled['label'])\n",
    "\n",
    "label_to_id = dict(zip(le.classes_, le.transform(le.classes_)))\n",
    "id_to_label = dict(zip(le.transform(le.classes_), le.classes_))\n",
    "\n",
    "print(\"Label to ID mapping:\", label_to_id)\n",
    "print(\"ID to Label mapping:\", id_to_label)\n",
    "\n",
    "# Menyimpan mapping ke JSON\n",
    "mapping = {\n",
    "    'label_to_id': label_to_id,\n",
    "    'id_to_label': {str(k): v for k, v in id_to_label.items()},  # Convert int keys to string for JSON\n",
    "    'classes': le.classes_.tolist()\n",
    "}\n",
    "\n",
    "# Train-test split\n",
    "X_train, X_val, y_train, y_val = train_test_split(\n",
    "    df_sampled['text'], df_sampled['label_encoded'], test_size=0.2, random_state=42\n",
    ")"
   ]
  },
  {
   "cell_type": "code",
   "execution_count": 19,
   "metadata": {
    "executionInfo": {
     "elapsed": 1168,
     "status": "ok",
     "timestamp": 1749499315244,
     "user": {
      "displayName": "Hasan Kiron",
      "userId": "10255888456638507101"
     },
     "user_tz": -420
    },
    "id": "OM0ZwNTahQ-w"
   },
   "outputs": [
    {
     "name": "stdout",
     "output_type": "stream",
     "text": [
      "Max length of sequences: 37\n"
     ]
    }
   ],
   "source": [
    "# Tokenisasi\n",
    "tokenizer = Tokenizer(num_words=10000, oov_token='<OOV>')\n",
    "tokenizer.fit_on_texts(X_train)\n",
    "\n",
    "# Menyimpan tokenizer\n",
    "tokenizer_json = tokenizer.to_json()\n",
    "with open('tokenizer.json', 'w', encoding='utf-8') as f:\n",
    "    f.write(json.dumps(tokenizer_json, ensure_ascii=False))\n",
    "\n",
    "\n",
    "X_train_seq = tokenizer.texts_to_sequences(X_train)\n",
    "X_val_seq = tokenizer.texts_to_sequences(X_val)\n",
    "\n",
    "# Padding\n",
    "max_len = max([len(x) for x in X_train_seq])\n",
    "print(f\"Max length of sequences: {max_len}\")\n",
    "X_train_pad = pad_sequences(X_train_seq, maxlen=max_len, padding='post')\n",
    "X_val_pad = pad_sequences(X_val_seq, maxlen=max_len, padding='post')\n",
    "\n"
   ]
  },
  {
   "cell_type": "code",
   "execution_count": 20,
   "metadata": {
    "executionInfo": {
     "elapsed": 1100,
     "status": "ok",
     "timestamp": 1749499316347,
     "user": {
      "displayName": "Hasan Kiron",
      "userId": "10255888456638507101"
     },
     "user_tz": -420
    },
    "id": "k2ULjmFuhS7m"
   },
   "outputs": [],
   "source": [
    "model = tf.keras.Sequential([\n",
    "    tf.keras.layers.Embedding(10000, 64, input_length=max_len),\n",
    "    tf.keras.layers.LSTM(64, return_sequences=True, dropout=0.3, recurrent_dropout=0.3),\n",
    "    tf.keras.layers.SimpleRNN(32, dropout=0.2),\n",
    "    tf.keras.layers.Dense(32, activation='relu', kernel_regularizer=tf.keras.regularizers.l2(0.01)),\n",
    "    tf.keras.layers.Dropout(0.5),\n",
    "    tf.keras.layers.Dense(len(le.classes_), activation='softmax')\n",
    "])\n",
    "callback = tf.keras.callbacks.EarlyStopping(monitor='val_loss', patience=3, restore_best_weights=True)\n",
    "reduce_lr = tf.keras.callbacks.ReduceLROnPlateau(monitor='val_loss', factor=0.5, patience=2)"
   ]
  },
  {
   "cell_type": "code",
   "execution_count": 21,
   "metadata": {
    "colab": {
     "base_uri": "https://localhost:8080/"
    },
    "executionInfo": {
     "elapsed": 1541552,
     "status": "ok",
     "timestamp": 1749500857917,
     "user": {
      "displayName": "Hasan Kiron",
      "userId": "10255888456638507101"
     },
     "user_tz": -420
    },
    "id": "PcsEBdBphaa_",
    "outputId": "676142d9-d945-4a13-9e53-0d91eba19bc6"
   },
   "outputs": [
    {
     "name": "stdout",
     "output_type": "stream",
     "text": [
      "Epoch 1/20\n",
      "\u001b[1m1411/1411\u001b[0m \u001b[32m━━━━━━━━━━━━━━━━━━━━\u001b[0m\u001b[37m\u001b[0m \u001b[1m33s\u001b[0m 20ms/step - accuracy: 0.3649 - loss: 1.3693 - val_accuracy: 0.4692 - val_loss: 0.9308 - learning_rate: 0.0010\n",
      "Epoch 2/20\n",
      "\u001b[1m1411/1411\u001b[0m \u001b[32m━━━━━━━━━━━━━━━━━━━━\u001b[0m\u001b[37m\u001b[0m \u001b[1m26s\u001b[0m 19ms/step - accuracy: 0.4780 - loss: 0.9716 - val_accuracy: 0.4787 - val_loss: 0.9179 - learning_rate: 0.0010\n",
      "Epoch 3/20\n",
      "\u001b[1m1411/1411\u001b[0m \u001b[32m━━━━━━━━━━━━━━━━━━━━\u001b[0m\u001b[37m\u001b[0m \u001b[1m27s\u001b[0m 19ms/step - accuracy: 0.4939 - loss: 0.9381 - val_accuracy: 0.4791 - val_loss: 0.9062 - learning_rate: 0.0010\n",
      "Epoch 4/20\n",
      "\u001b[1m1411/1411\u001b[0m \u001b[32m━━━━━━━━━━━━━━━━━━━━\u001b[0m\u001b[37m\u001b[0m \u001b[1m27s\u001b[0m 19ms/step - accuracy: 0.5225 - loss: 0.9089 - val_accuracy: 0.6935 - val_loss: 0.7603 - learning_rate: 0.0010\n",
      "Epoch 5/20\n",
      "\u001b[1m1411/1411\u001b[0m \u001b[32m━━━━━━━━━━━━━━━━━━━━\u001b[0m\u001b[37m\u001b[0m \u001b[1m27s\u001b[0m 19ms/step - accuracy: 0.6313 - loss: 0.9176 - val_accuracy: 0.6680 - val_loss: 0.8994 - learning_rate: 0.0010\n",
      "Epoch 6/20\n",
      "\u001b[1m1411/1411\u001b[0m \u001b[32m━━━━━━━━━━━━━━━━━━━━\u001b[0m\u001b[37m\u001b[0m \u001b[1m27s\u001b[0m 19ms/step - accuracy: 0.6104 - loss: 0.9970 - val_accuracy: 0.7807 - val_loss: 0.6255 - learning_rate: 0.0010\n",
      "Epoch 7/20\n",
      "\u001b[1m1411/1411\u001b[0m \u001b[32m━━━━━━━━━━━━━━━━━━━━\u001b[0m\u001b[37m\u001b[0m \u001b[1m27s\u001b[0m 19ms/step - accuracy: 0.7680 - loss: 0.6780 - val_accuracy: 0.7952 - val_loss: 0.5916 - learning_rate: 0.0010\n",
      "Epoch 8/20\n",
      "\u001b[1m1411/1411\u001b[0m \u001b[32m━━━━━━━━━━━━━━━━━━━━\u001b[0m\u001b[37m\u001b[0m \u001b[1m28s\u001b[0m 20ms/step - accuracy: 0.8291 - loss: 0.5621 - val_accuracy: 0.8533 - val_loss: 0.4932 - learning_rate: 0.0010\n",
      "Epoch 9/20\n",
      "\u001b[1m1411/1411\u001b[0m \u001b[32m━━━━━━━━━━━━━━━━━━━━\u001b[0m\u001b[37m\u001b[0m \u001b[1m28s\u001b[0m 20ms/step - accuracy: 0.8643 - loss: 0.4836 - val_accuracy: 0.8522 - val_loss: 0.4749 - learning_rate: 0.0010\n",
      "Epoch 10/20\n",
      "\u001b[1m1411/1411\u001b[0m \u001b[32m━━━━━━━━━━━━━━━━━━━━\u001b[0m\u001b[37m\u001b[0m \u001b[1m27s\u001b[0m 19ms/step - accuracy: 0.8755 - loss: 0.4568 - val_accuracy: 0.8604 - val_loss: 0.4806 - learning_rate: 0.0010\n",
      "Epoch 11/20\n",
      "\u001b[1m1411/1411\u001b[0m \u001b[32m━━━━━━━━━━━━━━━━━━━━\u001b[0m\u001b[37m\u001b[0m \u001b[1m37s\u001b[0m 26ms/step - accuracy: 0.8918 - loss: 0.4260 - val_accuracy: 0.8717 - val_loss: 0.4616 - learning_rate: 0.0010\n",
      "Epoch 12/20\n",
      "\u001b[1m1411/1411\u001b[0m \u001b[32m━━━━━━━━━━━━━━━━━━━━\u001b[0m\u001b[37m\u001b[0m \u001b[1m45s\u001b[0m 29ms/step - accuracy: 0.9025 - loss: 0.4002 - val_accuracy: 0.8863 - val_loss: 0.4193 - learning_rate: 0.0010\n",
      "Epoch 13/20\n",
      "\u001b[1m1411/1411\u001b[0m \u001b[32m━━━━━━━━━━━━━━━━━━━━\u001b[0m\u001b[37m\u001b[0m \u001b[1m28s\u001b[0m 20ms/step - accuracy: 0.9157 - loss: 0.3347 - val_accuracy: 0.8887 - val_loss: 0.4167 - learning_rate: 0.0010\n",
      "Epoch 14/20\n",
      "\u001b[1m1411/1411\u001b[0m \u001b[32m━━━━━━━━━━━━━━━━━━━━\u001b[0m\u001b[37m\u001b[0m \u001b[1m28s\u001b[0m 20ms/step - accuracy: 0.9147 - loss: 0.3304 - val_accuracy: 0.8873 - val_loss: 0.4717 - learning_rate: 0.0010\n",
      "Epoch 15/20\n",
      "\u001b[1m1411/1411\u001b[0m \u001b[32m━━━━━━━━━━━━━━━━━━━━\u001b[0m\u001b[37m\u001b[0m \u001b[1m28s\u001b[0m 20ms/step - accuracy: 0.9232 - loss: 0.3107 - val_accuracy: 0.8962 - val_loss: 0.4232 - learning_rate: 0.0010\n",
      "Epoch 16/20\n",
      "\u001b[1m1411/1411\u001b[0m \u001b[32m━━━━━━━━━━━━━━━━━━━━\u001b[0m\u001b[37m\u001b[0m \u001b[1m33s\u001b[0m 23ms/step - accuracy: 0.9384 - loss: 0.2750 - val_accuracy: 0.9033 - val_loss: 0.4124 - learning_rate: 5.0000e-04\n",
      "Epoch 17/20\n",
      "\u001b[1m1411/1411\u001b[0m \u001b[32m━━━━━━━━━━━━━━━━━━━━\u001b[0m\u001b[37m\u001b[0m \u001b[1m31s\u001b[0m 22ms/step - accuracy: 0.9374 - loss: 0.2471 - val_accuracy: 0.9075 - val_loss: 0.4069 - learning_rate: 5.0000e-04\n",
      "Epoch 18/20\n",
      "\u001b[1m1411/1411\u001b[0m \u001b[32m━━━━━━━━━━━━━━━━━━━━\u001b[0m\u001b[37m\u001b[0m \u001b[1m34s\u001b[0m 24ms/step - accuracy: 0.9452 - loss: 0.2397 - val_accuracy: 0.8994 - val_loss: 0.4330 - learning_rate: 5.0000e-04\n",
      "Epoch 19/20\n",
      "\u001b[1m1411/1411\u001b[0m \u001b[32m━━━━━━━━━━━━━━━━━━━━\u001b[0m\u001b[37m\u001b[0m \u001b[1m28s\u001b[0m 20ms/step - accuracy: 0.9521 - loss: 0.2137 - val_accuracy: 0.8987 - val_loss: 0.4647 - learning_rate: 5.0000e-04\n",
      "Epoch 20/20\n",
      "\u001b[1m1411/1411\u001b[0m \u001b[32m━━━━━━━━━━━━━━━━━━━━\u001b[0m\u001b[37m\u001b[0m \u001b[1m28s\u001b[0m 20ms/step - accuracy: 0.9555 - loss: 0.2135 - val_accuracy: 0.9015 - val_loss: 0.4542 - learning_rate: 2.5000e-04\n"
     ]
    }
   ],
   "source": [
    "\n",
    "model.compile(optimizer='adam',\n",
    "                       loss='sparse_categorical_crossentropy',\n",
    "                       metrics=['accuracy'])\n",
    "\n",
    "history = model.fit(\n",
    "    X_train_pad, y_train,\n",
    "    validation_data=(X_val_pad, y_val),\n",
    "    epochs=20,\n",
    "    batch_size=8, \n",
    "    callbacks=[callback,reduce_lr]\n",
    ")"
   ]
  },
  {
   "cell_type": "code",
   "execution_count": 22,
   "metadata": {},
   "outputs": [
    {
     "data": {
      "image/png": "[encoded data removed]",
      "text/plain": [
       "<Figure size 1200x500 with 2 Axes>"
      ]
     },
     "metadata": {},
     "output_type": "display_data"
    }
   ],
   "source": [
    "# Plot akurasi\n",
    "plt.figure(figsize=(12, 5))\n",
    "\n",
    "plt.subplot(1, 2, 1)\n",
    "plt.plot(history.history['accuracy'], label='Train Accuracy')\n",
    "plt.plot(history.history['val_accuracy'], label='Validation Accuracy')\n",
    "plt.title('Akurasi Model')\n",
    "plt.xlabel('Epoch')\n",
    "plt.ylabel('Accuracy')\n",
    "plt.legend()\n",
    "plt.grid(True)\n",
    "\n",
    "# Plot loss\n",
    "plt.subplot(1, 2, 2)\n",
    "plt.plot(history.history['loss'], label='Train Loss')\n",
    "plt.plot(history.history['val_loss'], label='Validation Loss')\n",
    "plt.title('Loss Model')\n",
    "plt.xlabel('Epoch')\n",
    "plt.ylabel('Loss')\n",
    "plt.legend()\n",
    "plt.grid(True)\n",
    "\n",
    "plt.tight_layout()\n",
    "plt.show()\n"
   ]
  },
  {
   "cell_type": "code",
   "execution_count": 23,
   "metadata": {},
   "outputs": [
    {
     "name": "stdout",
     "output_type": "stream",
     "text": [
      "\u001b[1m89/89\u001b[0m \u001b[32m━━━━━━━━━━━━━━━━━━━━\u001b[0m\u001b[37m\u001b[0m \u001b[1m1s\u001b[0m 10ms/step\n"
     ]
    },
    {
     "data": {
      "image/png": "[encoded data removed]",
      "text/plain": [
       "<Figure size 1000x800 with 2 Axes>"
      ]
     },
     "metadata": {},
     "output_type": "display_data"
    }
   ],
   "source": [
    "\n",
    "y_pred_prob = model.predict(X_val_pad)   \n",
    "y_pred = np.argmax(y_pred_prob, axis=1)  \n",
    "\n",
    "cm = confusion_matrix(y_val, y_pred)\n",
    "\n",
    "plt.figure(figsize=(10,8))\n",
    "sns.heatmap(cm, annot=True, fmt='d', cmap='Blues',\n",
    "            xticklabels=le.classes_, yticklabels=le.classes_)\n",
    "plt.xlabel('Predicted Label')\n",
    "plt.ylabel('True Label')\n",
    "plt.title('Confusion Matrix')\n",
    "plt.show()\n"
   ]
  },
  {
   "cell_type": "code",
   "execution_count": 24,
   "metadata": {
    "colab": {
     "base_uri": "https://localhost:8080/"
    },
    "executionInfo": {
     "elapsed": 578,
     "status": "ok",
     "timestamp": 1749500888133,
     "user": {
      "displayName": "Hasan Kiron",
      "userId": "10255888456638507101"
     },
     "user_tz": -420
    },
    "id": "HabeMRlZAzNZ",
    "outputId": "5fc3f54b-6ed4-4b90-cecc-9c1a8b25b3e5"
   },
   "outputs": [
    {
     "name": "stdout",
     "output_type": "stream",
     "text": [
      "Folder './model' sudah ada.\n"
     ]
    }
   ],
   "source": [
    "folder_path = \"./model\"\n",
    "\n",
    "if not os.path.exists(folder_path):\n",
    "    os.makedirs(folder_path)\n",
    "    print(f\"Folder '{folder_path}' telah dibuat.\")\n",
    "else:\n",
    "    print(f\"Folder '{folder_path}' sudah ada.\")"
   ]
  },
  {
   "cell_type": "markdown",
   "metadata": {
    "id": "WERZwKiHQKoa"
   },
   "source": [
    "SaveModel"
   ]
  },
  {
   "cell_type": "code",
   "execution_count": 25,
   "metadata": {
    "colab": {
     "base_uri": "https://localhost:8080/"
    },
    "executionInfo": {
     "elapsed": 89,
     "status": "ok",
     "timestamp": 1749500943485,
     "user": {
      "displayName": "Hasan Kiron",
      "userId": "10255888456638507101"
     },
     "user_tz": -420
    },
    "id": "Ec8DJi17M_Gd",
    "outputId": "114b3398-6326-4d5f-c323-73ac3e2c5703"
   },
   "outputs": [
    {
     "name": "stdout",
     "output_type": "stream",
     "text": [
      "Model berhasil disimpan.\n"
     ]
    }
   ],
   "source": [
    "model.save(\"./model/ED_model.keras\") \n",
    "print(\"Model berhasil disimpan.\")"
   ]
  },
  {
   "cell_type": "code",
   "execution_count": null,
   "metadata": {
    "colab": {
     "base_uri": "https://localhost:8080/"
    },
    "executionInfo": {
     "elapsed": 827,
     "status": "ok",
     "timestamp": 1749500956590,
     "user": {
      "displayName": "Hasan Kiron",
      "userId": "10255888456638507101"
     },
     "user_tz": -420
    },
    "id": "VfXqly_z5fFf",
    "outputId": "7a77abc5-3222-42fe-bd0b-545033ca510b"
   },
   "outputs": [
    {
     "name": "stdout",
     "output_type": "stream",
     "text": [
      "Model .keras berhasil dimuat.\n",
      "Tokenizer berhasil dimuat.\n",
      "\u001b[1m1/1\u001b[0m \u001b[32m━━━━━━━━━━━━━━━━━━━━\u001b[0m\u001b[37m\u001b[0m \u001b[1m0s\u001b[0m 447ms/step\n",
      "Sentence: saya sedih sekali hari ini karena sudah tidak ada lagi teman bermain\n",
      "Predicted Emotion: neutral\n",
      "Probabilities: [0.03083706 0.00756259 0.9593469  0.00225344]\n"
     ]
    }
   ],
   "source": [
    "import numpy as np\n",
    "import tensorflow as tf\n",
    "from tensorflow.keras.preprocessing.sequence import pad_sequences\n",
    "from tensorflow.keras.preprocessing.text import tokenizer_from_json\n",
    "import json\n",
    "import re\n",
    "import string\n",
    "from nltk.tokenize import word_tokenize\n",
    "from nltk.corpus import stopwords\n",
    "from Sastrawi.Stemmer.StemmerFactory import StemmerFactory\n",
    "from Sastrawi.StopWordRemover.StopWordRemoverFactory import StopWordRemoverFactory\n",
    "\n",
    "# Load model\n",
    "model = tf.keras.models.load_model(\"./model/ED_model.keras\")\n",
    "print(\"Model .keras berhasil dimuat.\")\n",
    "\n",
    "# Load tokenizer\n",
    "with open('tokenizer.json', 'r', encoding='utf-8') as f:\n",
    "    data = json.load(f)\n",
    "    tokenizer = tokenizer_from_json(data)\n",
    "print(\"Tokenizer berhasil dimuat.\")\n",
    "\n",
    "# Konfigurasi\n",
    "maxlen = 37\n",
    "label_mapping = {0: 'anger', 1: 'joy', 2: 'neutral', 3: 'sadness'}\n",
    "\n",
    "# Slang words\n",
    "slangwords = {\n",
    "    \"@\": \"di\", \"abis\": \"habis\", \"masi\": \"masih\", \"gua\": \"saya\", \"gw\": \"saya\", \"klo\": \"kalau\", \"afk\": \"tidak aktif\",\n",
    "    \"thx\": \"terima kasih\", \"ty\": \"terima kasih\", \"tq\": \"terima kasih\", \"bgt\": \"banget\", \"maks\": \"maksimal\",\n",
    "    \"gg\": \"hebat\", \"noob\": \"pemula\", \"poke\": \"pemula\", \"op\": \"terlalu kuat\", \"ez\": \"mudah\", \"dll\": \"dan lain lain\",\n",
    "}\n",
    "\n",
    "# Stopwords\n",
    "stopword_factory = StopWordRemoverFactory()\n",
    "list_stopwords = set(stopword_factory.get_stop_words())\n",
    "list_stopwords.update(stopwords.words('english'))\n",
    "list_stopwords.update(['iya', 'yaa', 'gak', 'nya', 'na', 'sih', 'ku', \"di\", \"ga\", \"ya\", \"gaa\", \"loh\", \"kah\", \"woi\", \"woii\", \"woy\", \"nge\"])\n",
    "\n",
    "# Stemmer\n",
    "stemmer_factory = StemmerFactory()\n",
    "stemmer = stemmer_factory.create_stemmer()\n",
    "\n",
    "# Fungsi preprocessing\n",
    "def cleaning_text(text):\n",
    "    emoticon_pattern = re.compile(\n",
    "        \"[\"u\"\\U0001F600-\\U0001F64F\"\n",
    "        u\"\\U0001F300-\\U0001F5FF\"\n",
    "        u\"\\U0001F680-\\U0001F6FF\"\n",
    "        u\"\\U0001F1E0-\\U0001F1FF\"\n",
    "        u\"\\U00002702-\\U000027B0\"\n",
    "        u\"\\U000024C2-\\U0001F251\"\n",
    "        \"]+\", flags=re.UNICODE)\n",
    "    text = emoticon_pattern.sub(r'', text)\n",
    "    text = re.sub(r'@[A-Za-z0-9_]+', '', text)\n",
    "    text = re.sub(r'#[A-Za-z0-9_]+', '', text)\n",
    "    text = re.sub(r'RT[\\s]', '', text)\n",
    "    text = re.sub(r\"http\\S+\", '', text)\n",
    "    text = re.sub(r'[0-9]+', '', text)\n",
    "    text = re.sub(r'[^\\w\\s]', '', text)\n",
    "    text = re.sub(r'(.)\\1{2,}', r'\\1', text)\n",
    "    text = text.replace('\\n', ' ').translate(str.maketrans('', '', string.punctuation)).strip()\n",
    "    return text.lower()\n",
    "\n",
    "def fix_slangwords(text):\n",
    "    return ' '.join([slangwords.get(word, word) for word in text.split()])\n",
    "\n",
    "def tokenizing_text(text):\n",
    "    return word_tokenize(text)\n",
    "\n",
    "def filtering_text(tokens):\n",
    "    return [word for word in tokens if word not in list_stopwords]\n",
    "\n",
    "def stemming_text(tokens):\n",
    "    return ' '.join([stemmer.stem(word) for word in tokens])\n",
    "\n",
    "def preprocess_sentence(sentence):\n",
    "    cleaned = cleaning_text(sentence)\n",
    "    fixed = fix_slangwords(cleaned)\n",
    "    tokens = tokenizing_text(fixed)\n",
    "    filtered = filtering_text(tokens)\n",
    "    stemmed = stemming_text(filtered)\n",
    "    return stemmed\n",
    "\n",
    "# Fungsi prediksi\n",
    "def predict_emotion(sentence):\n",
    "    preprocessed_sentence = preprocess_sentence(sentence)\n",
    "    sequence = tokenizer.texts_to_sequences([preprocessed_sentence])\n",
    "    padded_sequence = pad_sequences(sequence, padding='post', maxlen=maxlen, truncating='post')\n",
    "\n",
    "    predictions = model.predict(padded_sequence)\n",
    "    predicted_class_index = np.argmax(predictions, axis=1)[0]\n",
    "    predicted_label = label_mapping.get(predicted_class_index, 'Unknown')\n",
    "\n",
    "    return predicted_label, predictions[0]\n",
    "\n",
    "if __name__ == \"__main__\":\n",
    "    new_sentence = \"saya sedih sekali hari ini karena sudah tidak ada lagi teman bermain\"\n",
    "    predicted_label, probabilities = predict_emotion(new_sentence)\n",
    "\n",
    "    print(f\"Sentence: {new_sentence}\")\n",
    "    print(f\"Predicted Emotion: {predicted_label}\")\n",
    "    print(f\"Probabilities: {probabilities}\")\n"
   ]
  }
 ],
 "metadata": {
  "accelerator": "GPU",
  "colab": {
   "gpuType": "T4",
   "provenance": []
  },
  "kernelspec": {
   "display_name": "venv",
   "language": "python",
   "name": "python3"
  },
  "language_info": {
   "codemirror_mode": {
    "name": "ipython",
    "version": 3
   },
   "file_extension": ".py",
   "mimetype": "text/x-python",
   "name": "python",
   "nbconvert_exporter": "python",
   "pygments_lexer": "ipython3",
   "version": "3.11.9"
  }
 },
 "nbformat": 4,
 "nbformat_minor": 0
}
